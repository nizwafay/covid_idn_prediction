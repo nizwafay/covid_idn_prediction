{
 "cells": [
  {
   "cell_type": "code",
   "execution_count": 1,
   "metadata": {},
   "outputs": [],
   "source": [
    "import pandas as pd\n",
    "import numpy as np\n",
    "from scipy.optimize import curve_fit\n",
    "from scipy.optimize import fsolve\n",
    "from sklearn.metrics import r2_score\n",
    "from datetime import datetime\n",
    "import matplotlib.pyplot as plt"
   ]
  },
  {
   "cell_type": "markdown",
   "metadata": {},
   "source": [
    "# Pre-processing"
   ]
  },
  {
   "cell_type": "code",
   "execution_count": 2,
   "metadata": {},
   "outputs": [
    {
     "data": {
      "text/html": [
       "<div>\n",
       "<style scoped>\n",
       "    .dataframe tbody tr th:only-of-type {\n",
       "        vertical-align: middle;\n",
       "    }\n",
       "\n",
       "    .dataframe tbody tr th {\n",
       "        vertical-align: top;\n",
       "    }\n",
       "\n",
       "    .dataframe thead th {\n",
       "        text-align: right;\n",
       "    }\n",
       "</style>\n",
       "<table border=\"1\" class=\"dataframe\">\n",
       "  <thead>\n",
       "    <tr style=\"text-align: right;\">\n",
       "      <th></th>\n",
       "      <th>Date</th>\n",
       "      <th>Location ISO Code</th>\n",
       "      <th>Location</th>\n",
       "      <th>New Cases</th>\n",
       "      <th>New Deaths</th>\n",
       "      <th>New Recovered</th>\n",
       "      <th>New Active Cases</th>\n",
       "      <th>Total Cases</th>\n",
       "      <th>Total Deaths</th>\n",
       "      <th>Total Recovered</th>\n",
       "      <th>...</th>\n",
       "      <th>Longitude</th>\n",
       "      <th>Latitude</th>\n",
       "      <th>New Cases per Million</th>\n",
       "      <th>Total Cases per Million</th>\n",
       "      <th>New Deaths per Million</th>\n",
       "      <th>Total Deaths per Million</th>\n",
       "      <th>Case Fatality Rate</th>\n",
       "      <th>Case Recovered Rate</th>\n",
       "      <th>Growth Factor of New Cases</th>\n",
       "      <th>Growth Factor of New Deaths</th>\n",
       "    </tr>\n",
       "  </thead>\n",
       "  <tbody>\n",
       "    <tr>\n",
       "      <td>0</td>\n",
       "      <td>3/1/2020</td>\n",
       "      <td>ID-JK</td>\n",
       "      <td>DKI Jakarta</td>\n",
       "      <td>3</td>\n",
       "      <td>0</td>\n",
       "      <td>0</td>\n",
       "      <td>3</td>\n",
       "      <td>3</td>\n",
       "      <td>0</td>\n",
       "      <td>0</td>\n",
       "      <td>...</td>\n",
       "      <td>106.836118</td>\n",
       "      <td>-6.204699</td>\n",
       "      <td>0.28</td>\n",
       "      <td>0.28</td>\n",
       "      <td>0.0</td>\n",
       "      <td>0.0</td>\n",
       "      <td>0.00%</td>\n",
       "      <td>0.00%</td>\n",
       "      <td>NaN</td>\n",
       "      <td>NaN</td>\n",
       "    </tr>\n",
       "    <tr>\n",
       "      <td>1</td>\n",
       "      <td>3/1/2020</td>\n",
       "      <td>ID-JB</td>\n",
       "      <td>Jawa Barat</td>\n",
       "      <td>3</td>\n",
       "      <td>0</td>\n",
       "      <td>0</td>\n",
       "      <td>3</td>\n",
       "      <td>3</td>\n",
       "      <td>0</td>\n",
       "      <td>0</td>\n",
       "      <td>...</td>\n",
       "      <td>107.603708</td>\n",
       "      <td>-6.920432</td>\n",
       "      <td>0.07</td>\n",
       "      <td>0.07</td>\n",
       "      <td>0.0</td>\n",
       "      <td>0.0</td>\n",
       "      <td>0.00%</td>\n",
       "      <td>0.00%</td>\n",
       "      <td>NaN</td>\n",
       "      <td>NaN</td>\n",
       "    </tr>\n",
       "    <tr>\n",
       "      <td>2</td>\n",
       "      <td>3/2/2020</td>\n",
       "      <td>ID-JK</td>\n",
       "      <td>DKI Jakarta</td>\n",
       "      <td>2</td>\n",
       "      <td>0</td>\n",
       "      <td>0</td>\n",
       "      <td>2</td>\n",
       "      <td>5</td>\n",
       "      <td>0</td>\n",
       "      <td>0</td>\n",
       "      <td>...</td>\n",
       "      <td>106.836118</td>\n",
       "      <td>-6.204699</td>\n",
       "      <td>0.18</td>\n",
       "      <td>0.46</td>\n",
       "      <td>0.0</td>\n",
       "      <td>0.0</td>\n",
       "      <td>0.00%</td>\n",
       "      <td>0.00%</td>\n",
       "      <td>0.67</td>\n",
       "      <td>1.0</td>\n",
       "    </tr>\n",
       "    <tr>\n",
       "      <td>3</td>\n",
       "      <td>3/2/2020</td>\n",
       "      <td>ID-JB</td>\n",
       "      <td>Jawa Barat</td>\n",
       "      <td>0</td>\n",
       "      <td>0</td>\n",
       "      <td>0</td>\n",
       "      <td>0</td>\n",
       "      <td>3</td>\n",
       "      <td>0</td>\n",
       "      <td>0</td>\n",
       "      <td>...</td>\n",
       "      <td>107.603708</td>\n",
       "      <td>-6.920432</td>\n",
       "      <td>0.00</td>\n",
       "      <td>0.07</td>\n",
       "      <td>0.0</td>\n",
       "      <td>0.0</td>\n",
       "      <td>0.00%</td>\n",
       "      <td>0.00%</td>\n",
       "      <td>0.00</td>\n",
       "      <td>1.0</td>\n",
       "    </tr>\n",
       "    <tr>\n",
       "      <td>4</td>\n",
       "      <td>3/2/2020</td>\n",
       "      <td>IDN</td>\n",
       "      <td>Indonesia</td>\n",
       "      <td>2</td>\n",
       "      <td>0</td>\n",
       "      <td>0</td>\n",
       "      <td>2</td>\n",
       "      <td>2</td>\n",
       "      <td>0</td>\n",
       "      <td>0</td>\n",
       "      <td>...</td>\n",
       "      <td>113.921327</td>\n",
       "      <td>-0.789275</td>\n",
       "      <td>0.01</td>\n",
       "      <td>0.01</td>\n",
       "      <td>0.0</td>\n",
       "      <td>0.0</td>\n",
       "      <td>0.00%</td>\n",
       "      <td>0.00%</td>\n",
       "      <td>NaN</td>\n",
       "      <td>NaN</td>\n",
       "    </tr>\n",
       "  </tbody>\n",
       "</table>\n",
       "<p>5 rows × 37 columns</p>\n",
       "</div>"
      ],
      "text/plain": [
       "       Date Location ISO Code     Location  New Cases  New Deaths  \\\n",
       "0  3/1/2020             ID-JK  DKI Jakarta          3           0   \n",
       "1  3/1/2020             ID-JB   Jawa Barat          3           0   \n",
       "2  3/2/2020             ID-JK  DKI Jakarta          2           0   \n",
       "3  3/2/2020             ID-JB   Jawa Barat          0           0   \n",
       "4  3/2/2020               IDN    Indonesia          2           0   \n",
       "\n",
       "   New Recovered  New Active Cases  Total Cases  Total Deaths  \\\n",
       "0              0                 3            3             0   \n",
       "1              0                 3            3             0   \n",
       "2              0                 2            5             0   \n",
       "3              0                 0            3             0   \n",
       "4              0                 2            2             0   \n",
       "\n",
       "   Total Recovered  ...   Longitude  Latitude  New Cases per Million  \\\n",
       "0                0  ...  106.836118 -6.204699                   0.28   \n",
       "1                0  ...  107.603708 -6.920432                   0.07   \n",
       "2                0  ...  106.836118 -6.204699                   0.18   \n",
       "3                0  ...  107.603708 -6.920432                   0.00   \n",
       "4                0  ...  113.921327 -0.789275                   0.01   \n",
       "\n",
       "  Total Cases per Million New Deaths per Million Total Deaths per Million  \\\n",
       "0                    0.28                    0.0                      0.0   \n",
       "1                    0.07                    0.0                      0.0   \n",
       "2                    0.46                    0.0                      0.0   \n",
       "3                    0.07                    0.0                      0.0   \n",
       "4                    0.01                    0.0                      0.0   \n",
       "\n",
       "  Case Fatality Rate Case Recovered Rate Growth Factor of New Cases  \\\n",
       "0              0.00%               0.00%                        NaN   \n",
       "1              0.00%               0.00%                        NaN   \n",
       "2              0.00%               0.00%                       0.67   \n",
       "3              0.00%               0.00%                       0.00   \n",
       "4              0.00%               0.00%                        NaN   \n",
       "\n",
       "   Growth Factor of New Deaths  \n",
       "0                          NaN  \n",
       "1                          NaN  \n",
       "2                          1.0  \n",
       "3                          1.0  \n",
       "4                          NaN  \n",
       "\n",
       "[5 rows x 37 columns]"
      ]
     },
     "execution_count": 2,
     "metadata": {},
     "output_type": "execute_result"
    }
   ],
   "source": [
    "df_raw = pd.read_csv('dataset_covid_indonesia.csv')\n",
    "df_raw.head()"
   ]
  },
  {
   "cell_type": "code",
   "execution_count": 3,
   "metadata": {},
   "outputs": [
    {
     "name": "stdout",
     "output_type": "stream",
     "text": [
      "<class 'pandas.core.frame.DataFrame'>\n",
      "RangeIndex: 2872 entries, 0 to 2871\n",
      "Data columns (total 37 columns):\n",
      "Date                           2872 non-null object\n",
      "Location ISO Code              2872 non-null object\n",
      "Location                       2872 non-null object\n",
      "New Cases                      2872 non-null int64\n",
      "New Deaths                     2872 non-null int64\n",
      "New Recovered                  2872 non-null int64\n",
      "New Active Cases               2872 non-null int64\n",
      "Total Cases                    2872 non-null int64\n",
      "Total Deaths                   2872 non-null int64\n",
      "Total Recovered                2872 non-null int64\n",
      "Total Active Cases             2872 non-null int64\n",
      "Location Level                 2872 non-null object\n",
      "City or Regency                0 non-null float64\n",
      "Province                       2768 non-null object\n",
      "Country                        2872 non-null object\n",
      "Continent                      2872 non-null object\n",
      "Island                         2768 non-null object\n",
      "Time Zone                      2768 non-null object\n",
      "Special Status                 438 non-null object\n",
      "Total Regencies                2872 non-null int64\n",
      "Total Cities                   2794 non-null float64\n",
      "Total Districts                2872 non-null int64\n",
      "Total Urban Villages           2792 non-null float64\n",
      "Total Rural Villages           2767 non-null float64\n",
      "Area (km2)                     2872 non-null int64\n",
      "Population                     2872 non-null int64\n",
      "Population Density             2872 non-null float64\n",
      "Longitude                      2872 non-null float64\n",
      "Latitude                       2872 non-null float64\n",
      "New Cases per Million          2872 non-null float64\n",
      "Total Cases per Million        2872 non-null float64\n",
      "New Deaths per Million         2872 non-null float64\n",
      "Total Deaths per Million       2872 non-null float64\n",
      "Case Fatality Rate             2872 non-null object\n",
      "Case Recovered Rate            2872 non-null object\n",
      "Growth Factor of New Cases     2428 non-null float64\n",
      "Growth Factor of New Deaths    2543 non-null float64\n",
      "dtypes: float64(13), int64(12), object(12)\n",
      "memory usage: 830.3+ KB\n"
     ]
    }
   ],
   "source": [
    "df_raw.info()"
   ]
  },
  {
   "cell_type": "code",
   "execution_count": 4,
   "metadata": {
    "scrolled": true
   },
   "outputs": [
    {
     "data": {
      "text/html": [
       "<div>\n",
       "<style scoped>\n",
       "    .dataframe tbody tr th:only-of-type {\n",
       "        vertical-align: middle;\n",
       "    }\n",
       "\n",
       "    .dataframe tbody tr th {\n",
       "        vertical-align: top;\n",
       "    }\n",
       "\n",
       "    .dataframe thead th {\n",
       "        text-align: right;\n",
       "    }\n",
       "</style>\n",
       "<table border=\"1\" class=\"dataframe\">\n",
       "  <thead>\n",
       "    <tr style=\"text-align: right;\">\n",
       "      <th></th>\n",
       "      <th>Date</th>\n",
       "      <th>Location ISO Code</th>\n",
       "      <th>Total Cases</th>\n",
       "    </tr>\n",
       "  </thead>\n",
       "  <tbody>\n",
       "    <tr>\n",
       "      <td>0</td>\n",
       "      <td>3/1/2020</td>\n",
       "      <td>ID-JK</td>\n",
       "      <td>3</td>\n",
       "    </tr>\n",
       "    <tr>\n",
       "      <td>1</td>\n",
       "      <td>3/1/2020</td>\n",
       "      <td>ID-JB</td>\n",
       "      <td>3</td>\n",
       "    </tr>\n",
       "    <tr>\n",
       "      <td>2</td>\n",
       "      <td>3/2/2020</td>\n",
       "      <td>ID-JK</td>\n",
       "      <td>5</td>\n",
       "    </tr>\n",
       "    <tr>\n",
       "      <td>3</td>\n",
       "      <td>3/2/2020</td>\n",
       "      <td>ID-JB</td>\n",
       "      <td>3</td>\n",
       "    </tr>\n",
       "    <tr>\n",
       "      <td>4</td>\n",
       "      <td>3/2/2020</td>\n",
       "      <td>IDN</td>\n",
       "      <td>2</td>\n",
       "    </tr>\n",
       "  </tbody>\n",
       "</table>\n",
       "</div>"
      ],
      "text/plain": [
       "       Date Location ISO Code  Total Cases\n",
       "0  3/1/2020             ID-JK            3\n",
       "1  3/1/2020             ID-JB            3\n",
       "2  3/2/2020             ID-JK            5\n",
       "3  3/2/2020             ID-JB            3\n",
       "4  3/2/2020               IDN            2"
      ]
     },
     "execution_count": 4,
     "metadata": {},
     "output_type": "execute_result"
    }
   ],
   "source": [
    "# Terlihat banyak sekali columns yang tidak berguna. Selanjutnya akan disortir columns yang berguna saja.\n",
    "df_with_valuable_columns = df_raw.loc[:, ['Date', 'Location ISO Code', 'Total Cases']]\n",
    "df_with_valuable_columns.head()"
   ]
  },
  {
   "cell_type": "code",
   "execution_count": 5,
   "metadata": {},
   "outputs": [
    {
     "data": {
      "text/html": [
       "<div>\n",
       "<style scoped>\n",
       "    .dataframe tbody tr th:only-of-type {\n",
       "        vertical-align: middle;\n",
       "    }\n",
       "\n",
       "    .dataframe tbody tr th {\n",
       "        vertical-align: top;\n",
       "    }\n",
       "\n",
       "    .dataframe thead th {\n",
       "        text-align: right;\n",
       "    }\n",
       "</style>\n",
       "<table border=\"1\" class=\"dataframe\">\n",
       "  <thead>\n",
       "    <tr style=\"text-align: right;\">\n",
       "      <th></th>\n",
       "      <th>index</th>\n",
       "      <th>Date</th>\n",
       "      <th>Location ISO Code</th>\n",
       "      <th>Total Cases</th>\n",
       "    </tr>\n",
       "  </thead>\n",
       "  <tbody>\n",
       "    <tr>\n",
       "      <td>0</td>\n",
       "      <td>4</td>\n",
       "      <td>3/2/2020</td>\n",
       "      <td>IDN</td>\n",
       "      <td>2</td>\n",
       "    </tr>\n",
       "    <tr>\n",
       "      <td>1</td>\n",
       "      <td>7</td>\n",
       "      <td>3/3/2020</td>\n",
       "      <td>IDN</td>\n",
       "      <td>2</td>\n",
       "    </tr>\n",
       "    <tr>\n",
       "      <td>2</td>\n",
       "      <td>10</td>\n",
       "      <td>3/4/2020</td>\n",
       "      <td>IDN</td>\n",
       "      <td>2</td>\n",
       "    </tr>\n",
       "    <tr>\n",
       "      <td>3</td>\n",
       "      <td>13</td>\n",
       "      <td>3/5/2020</td>\n",
       "      <td>IDN</td>\n",
       "      <td>2</td>\n",
       "    </tr>\n",
       "    <tr>\n",
       "      <td>4</td>\n",
       "      <td>17</td>\n",
       "      <td>3/6/2020</td>\n",
       "      <td>IDN</td>\n",
       "      <td>4</td>\n",
       "    </tr>\n",
       "  </tbody>\n",
       "</table>\n",
       "</div>"
      ],
      "text/plain": [
       "   index      Date Location ISO Code  Total Cases\n",
       "0      4  3/2/2020               IDN            2\n",
       "1      7  3/3/2020               IDN            2\n",
       "2     10  3/4/2020               IDN            2\n",
       "3     13  3/5/2020               IDN            2\n",
       "4     17  3/6/2020               IDN            4"
      ]
     },
     "execution_count": 5,
     "metadata": {},
     "output_type": "execute_result"
    }
   ],
   "source": [
    "# Fokus pada Indonesia secara keseluruhan saja (Location ISO Code = IDN)\n",
    "df_idn = df_with_valuable_columns[df_with_valuable_columns['Location ISO Code'] == 'IDN'].reset_index()\n",
    "df_idn.head()"
   ]
  },
  {
   "cell_type": "code",
   "execution_count": 6,
   "metadata": {},
   "outputs": [],
   "source": [
    "# Selanjutnya, drop column Location ISO Code dan index karena sudah tidak diperlukan lagi."
   ]
  },
  {
   "cell_type": "code",
   "execution_count": 7,
   "metadata": {},
   "outputs": [
    {
     "data": {
      "text/html": [
       "<div>\n",
       "<style scoped>\n",
       "    .dataframe tbody tr th:only-of-type {\n",
       "        vertical-align: middle;\n",
       "    }\n",
       "\n",
       "    .dataframe tbody tr th {\n",
       "        vertical-align: top;\n",
       "    }\n",
       "\n",
       "    .dataframe thead th {\n",
       "        text-align: right;\n",
       "    }\n",
       "</style>\n",
       "<table border=\"1\" class=\"dataframe\">\n",
       "  <thead>\n",
       "    <tr style=\"text-align: right;\">\n",
       "      <th></th>\n",
       "      <th>Date</th>\n",
       "      <th>Total Cases</th>\n",
       "    </tr>\n",
       "  </thead>\n",
       "  <tbody>\n",
       "    <tr>\n",
       "      <td>0</td>\n",
       "      <td>3/2/2020</td>\n",
       "      <td>2</td>\n",
       "    </tr>\n",
       "    <tr>\n",
       "      <td>1</td>\n",
       "      <td>3/3/2020</td>\n",
       "      <td>2</td>\n",
       "    </tr>\n",
       "    <tr>\n",
       "      <td>2</td>\n",
       "      <td>3/4/2020</td>\n",
       "      <td>2</td>\n",
       "    </tr>\n",
       "    <tr>\n",
       "      <td>3</td>\n",
       "      <td>3/5/2020</td>\n",
       "      <td>2</td>\n",
       "    </tr>\n",
       "    <tr>\n",
       "      <td>4</td>\n",
       "      <td>3/6/2020</td>\n",
       "      <td>4</td>\n",
       "    </tr>\n",
       "  </tbody>\n",
       "</table>\n",
       "</div>"
      ],
      "text/plain": [
       "       Date  Total Cases\n",
       "0  3/2/2020            2\n",
       "1  3/3/2020            2\n",
       "2  3/4/2020            2\n",
       "3  3/5/2020            2\n",
       "4  3/6/2020            4"
      ]
     },
     "execution_count": 7,
     "metadata": {},
     "output_type": "execute_result"
    }
   ],
   "source": [
    "data = df_idn.loc[:, ['Date', 'Total Cases']]\n",
    "data.head()"
   ]
  },
  {
   "cell_type": "markdown",
   "metadata": {},
   "source": [
    "Data siap digunakan."
   ]
  },
  {
   "cell_type": "markdown",
   "metadata": {},
   "source": [
    "# Model Pertumbuhan Logistik (Logistic Growth Model)"
   ]
  },
  {
   "cell_type": "markdown",
   "metadata": {},
   "source": [
    "Pada dasarnya, Model Pertumbuhan Logistik seringkali digunakan untuk memodelkan pertumbuhan populasi dengan sumber daya dan ruang yang terbatas. Sehingga, jumlah kumulatif kasus Corona di Indonesia per hari bisa diasumsikan sama dengan pertumbuhan populasi orang yang terinfeksi Corona."
   ]
  },
  {
   "cell_type": "code",
   "execution_count": 8,
   "metadata": {
    "scrolled": true
   },
   "outputs": [
    {
     "name": "stdout",
     "output_type": "stream",
     "text": [
      "infection_speed_rate: 0.05072594814362884,\n",
      "std_err: 0.0013111788846679785\n",
      "\n",
      "day_peak: 89.8232012535864,\n",
      "std_err: 1.7154877248746225\n",
      "\n",
      "max_infected_people: 53728.796289306054,\n",
      "std_err: 2236.3587125387826\n",
      "\n",
      "day_end: 309\n"
     ]
    }
   ],
   "source": [
    "# Referensi ->> https://www.wolframcloud.com/obj/covid-19/Published/Logistic-Growth-Model-for-COVID-19.nb\n",
    "def logistic_model(x, k, t, L):\n",
    "    return L/(1+np.exp(-k*(x-t)))\n",
    "\n",
    "# Dengan menggunakan fungsi curve_fit function dari scipy library dan dataset yang kita punyai,\n",
    "# kita bisa mendapatkan estimasi parameter values dan errors yang optimal dari model.\n",
    "index_days = list(data.index)\n",
    "total_cases_per_days = list(data.iloc[:, 1])\n",
    "fit = curve_fit(logistic_model, index_days, total_cases_per_days)\n",
    "A, B = fit\n",
    "infection_speed_rate, day_peak, max_infected_people = A\n",
    "errors = [np.sqrt(B[i][i]) for i in [0,1,2]]\n",
    "\n",
    "# Dari curve_fit, kita belum bisa mendapatkan prediksi hari dimana pandemik akan berakhir.\n",
    "# Tapi bisa kita lihat bahwa kita bisa mendapatkan total kasus saat pandemik berakhir.\n",
    "# Dengan bantuan fungsi fsolve dari scipy library dan memanfaatkan data max_infected_people dan fungsi model,\n",
    "# kita bisa mendapatkan hari dimana pandemik berakhir.\n",
    "day_end = int(fsolve(lambda x: logistic_model(x, infection_speed_rate, day_peak, max_infected_people) - int(max_infected_people), day_peak))\n",
    "print(f'''infection_speed_rate: {infection_speed_rate},\n",
    "std_err: {errors[0]}\n",
    "\n",
    "day_peak: {day_peak},\n",
    "std_err: {errors[1]}\n",
    "\n",
    "max_infected_people: {max_infected_people},\n",
    "std_err: {errors[2]}\n",
    "\n",
    "day_end: {day_end}''')"
   ]
  },
  {
   "cell_type": "markdown",
   "metadata": {},
   "source": [
    "# Evaluasi Metode"
   ]
  },
  {
   "cell_type": "code",
   "execution_count": 12,
   "metadata": {
    "scrolled": true
   },
   "outputs": [
    {
     "name": "stdout",
     "output_type": "stream",
     "text": [
      "R-squared: 0.9955316036547331\n"
     ]
    }
   ],
   "source": [
    "cases_with_model = [logistic_model(case, infection_speed_rate, day_peak, max_infected_people) for case in index_days]\n",
    "print(f'R-squared: {r2_score(data.iloc[:, 1], cases_with_model)}')"
   ]
  },
  {
   "cell_type": "markdown",
   "metadata": {},
   "source": [
    "Dengan hasil perhitungan R-squared yang hampir mendekati 1, ini menunjukkan bahwa terdapat korelasi yang sangat kuat antara\n",
    "data riil dengan data hasil dari model logistik. Ini menunjukkan bahwa model yang digunakan cukup baik dalam kasus ini."
   ]
  },
  {
   "cell_type": "markdown",
   "metadata": {},
   "source": [
    "# Plotting"
   ]
  },
  {
   "cell_type": "code",
   "execution_count": 10,
   "metadata": {},
   "outputs": [
    {
     "data": {
      "image/png": "[encoded data removed]",
      "text/plain": [
       "<Figure size 720x432 with 1 Axes>"
      ]
     },
     "metadata": {
      "needs_background": "light"
     },
     "output_type": "display_data"
    }
   ],
   "source": [
    "day_0 = pd.to_datetime('22/3/2020', format='%d/%m/%Y')\n",
    "x_index = index_days + list(range(max(index_days), day_end))\n",
    "plt.rcParams['figure.figsize'] = [10, 6]\n",
    "# Data riil\n",
    "plt.scatter(index_days, total_cases_per_days, label=\"Data riil\", color=\"red\", s=10)\n",
    "# Model logistik\n",
    "plt.plot(x_index, [int(logistic_model(i, infection_speed_rate, day_peak, max_infected_people)) for i in x_index], label=\"Model logistik\" )\n",
    "plt.legend()\n",
    "plt.title('Prediksi Jumlah Kasus COVID-19 di Indonesia')\n",
    "plt.ylabel('Total kasus')\n",
    "plt.xlabel('Hari ke-... setelah 22 Maret 2020')\n",
    "plt.show()"
   ]
  },
  {
   "cell_type": "markdown",
   "metadata": {},
   "source": [
    "# Kesimpulan"
   ]
  },
  {
   "cell_type": "code",
   "execution_count": 11,
   "metadata": {},
   "outputs": [
    {
     "name": "stdout",
     "output_type": "stream",
     "text": [
      "Laju pertumbuhan tingkat penyebaran virus adalah 0.05072594814362884,\n",
      "dengan standard error sebesar 0.0013111788846679785.\n",
      "    \n",
      "Puncak pandemik diperkirakan terjadi sekitar 88-91 hari setelah 22 Mar 2020,\n",
      "yaitu sekitar 18 Jun 2020 - 21 Jun 2020.\n",
      "Perlu dipahami bahwa puncak pandemik disini bukanlah pandemik sudah berakhir.\n",
      "Puncak pandemik adalah hari dimana penambahan kasus per hari itu mencapai nilai maksimal.\n",
      "Dengan kata lain, pertumbuhan kasus perhari setelah puncak pandemik akan mengalami penurunan.\n",
      "\n",
      "Pandemik diperkirakan berakhir saat 309 hari setelah 22 Mar 2020, yaitu sekitar 25 Jan 2021,\n",
      "dengan total orang yang terinfeksi diperkirakan mencapai sekitar 51492-55965 orang.\n"
     ]
    }
   ],
   "source": [
    "day_peak_start_fmt = (day_0 + pd.Timedelta(days=int(day_peak - errors[1]))).strftime('%d %b %Y')\n",
    "day_peak_end_fmt = (day_0 + pd.Timedelta(days=int(day_peak + errors[1]))).strftime('%d %b %Y')\n",
    "day_end_fmt = (day_0 + pd.Timedelta(days=day_end)).strftime('%d %b %Y')\n",
    "\n",
    "print(f'''Laju pertumbuhan tingkat penyebaran virus adalah {infection_speed_rate},\n",
    "dengan standard error sebesar {errors[0]}.\n",
    "    \n",
    "Puncak pandemik diperkirakan terjadi sekitar {int(day_peak - errors[1])}-{int(day_peak + errors[1])} hari setelah 22 Mar 2020,\n",
    "yaitu sekitar {day_peak_start_fmt} - {day_peak_end_fmt}.\n",
    "Perlu dipahami bahwa puncak pandemik disini bukanlah pandemik sudah berakhir.\n",
    "Puncak pandemik adalah hari dimana penambahan kasus per hari itu mencapai nilai maksimal.\n",
    "Dengan kata lain, pertumbuhan kasus perhari setelah puncak pandemik akan mengalami penurunan.\n",
    "\n",
    "Pandemik diperkirakan berakhir saat {day_end} hari setelah 22 Mar 2020, yaitu sekitar {day_end_fmt},\n",
    "dengan total orang yang terinfeksi diperkirakan mencapai sekitar {int(max_infected_people - errors[2])}-{int(max_infected_people + errors[2])} orang.''')"
   ]
  },
  {
   "cell_type": "markdown",
   "metadata": {},
   "source": [
    "# Referensi"
   ]
  },
  {
   "cell_type": "markdown",
   "metadata": {},
   "source": [
    "Dataset: https://www.kaggle.com/hendratno/covid19-indonesia\n",
    "\n",
    "https://towardsdatascience.com/covid-19-infection-in-italy-mathematical-models-and-predictions-7784b4d7dd8d\n",
    "\n",
    "https://www.wolframcloud.com/obj/covid-19/Published/Logistic-Growth-Model-for-COVID-19.nb\n",
    "\n",
    "https://stats.idre.ucla.edu/other/mult-pkg/faq/general/faq-what-are-pseudo-r-squareds/"
   ]
  }
 ],
 "metadata": {
  "kernelspec": {
   "display_name": "Python 3",
   "language": "python",
   "name": "python3"
  },
  "language_info": {
   "codemirror_mode": {
    "name": "ipython",
    "version": 3
   },
   "file_extension": ".py",
   "mimetype": "text/x-python",
   "name": "python",
   "nbconvert_exporter": "python",
   "pygments_lexer": "ipython3",
   "version": "3.7.4"
  }
 },
 "nbformat": 4,
 "nbformat_minor": 2
}
